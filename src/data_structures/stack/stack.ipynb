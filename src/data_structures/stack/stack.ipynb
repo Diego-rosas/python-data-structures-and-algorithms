{
 "cells": [
  {
   "cell_type": "markdown",
   "metadata": {},
   "source": [
    "# Stack\n",
    "The functions associated with stack are:\n",
    "\n",
    "* empty() – Returns whether the stack is empty – Time Complexity : $\\mathcal{O}(1)$\n",
    "* size() – Returns the size of the stack – Time Complexity : $\\mathcal{O}(1)$\n",
    "* top() – Returns a reference to the top most element of the stack – Time Complexity : $\\mathcal{O}(1)$\n",
    "* push(g) – Adds the element ‘g’ at the top of the stack – Time Complexity : $\\mathcal{O}(1)$\n",
    "* pop() – Deletes the top most element of the stack – Time Complexity : $\\mathcal{O}(1)$\n"
   ]
  },
  {
   "cell_type": "markdown",
   "metadata": {},
   "source": [
    "## Implementation using list\n",
    "Python’s buil-in data structure list can be used as a stack. Instead of `push()`, `append()` is used to add elements to the top of stack while `pop()` removes the element in LIFO order.\n",
    "\n",
    "Unfortunately, list has a few shortcomings. The biggest issue is that it can run into speed issue as it grows. The items in list are stored next to each other in memory, if the stack grows bigger than the block of memory that currently hold it, then Python needs to do some memory allocations. This can lead to some `append()` calls taking much longer than other ones."
   ]
  },
  {
   "cell_type": "code",
   "execution_count": 1,
   "metadata": {},
   "outputs": [],
   "source": [
    "stack = []"
   ]
  },
  {
   "cell_type": "code",
   "execution_count": 2,
   "metadata": {},
   "outputs": [],
   "source": [
    "# append() function to push \n",
    "# element in the stack \n",
    "stack.append('a') \n",
    "stack.append('b') \n",
    "stack.append('c') "
   ]
  },
  {
   "cell_type": "code",
   "execution_count": 3,
   "metadata": {},
   "outputs": [
    {
     "data": {
      "text/plain": [
       "['a', 'b', 'c']"
      ]
     },
     "execution_count": 3,
     "metadata": {},
     "output_type": "execute_result"
    }
   ],
   "source": [
    "stack"
   ]
  },
  {
   "cell_type": "markdown",
   "metadata": {},
   "source": [
    "## Implementation using collections.deque\n",
    "Python stack can be implemented using deque class from collections module. Deque is preferred over list in the cases where we need quicker append and pop operations from both the ends of the container, as deque provides an $\\mathcal{O}(1)$ time complexity for append and pop operations as compared to list which provides $\\mathcal{O}(n)$ time complexity.\n",
    "Same methods on deque as seen in list are used, `append()` and `pop()`."
   ]
  },
  {
   "cell_type": "code",
   "execution_count": 4,
   "metadata": {},
   "outputs": [],
   "source": [
    "# Python program to  \n",
    "# demonstrate stack implementation \n",
    "# using collections.deque \n",
    "from collections import deque"
   ]
  },
  {
   "cell_type": "code",
   "execution_count": 5,
   "metadata": {},
   "outputs": [],
   "source": [
    "stack = deque()"
   ]
  },
  {
   "cell_type": "code",
   "execution_count": 6,
   "metadata": {},
   "outputs": [],
   "source": [
    "# append() function to push \n",
    "# element in the stack \n",
    "stack.append('a')\n",
    "stack.append('b')\n",
    "stack.append('c')"
   ]
  },
  {
   "cell_type": "code",
   "execution_count": 7,
   "metadata": {},
   "outputs": [
    {
     "data": {
      "text/plain": [
       "deque(['a', 'b', 'c'])"
      ]
     },
     "execution_count": 7,
     "metadata": {},
     "output_type": "execute_result"
    }
   ],
   "source": [
    "stack"
   ]
  },
  {
   "cell_type": "code",
   "execution_count": 8,
   "metadata": {},
   "outputs": [
    {
     "data": {
      "text/plain": [
       "'c'"
      ]
     },
     "execution_count": 8,
     "metadata": {},
     "output_type": "execute_result"
    }
   ],
   "source": [
    "# pop() fucntion to pop \n",
    "# element from stack in  \n",
    "# LIFO order \n",
    "stack.pop()"
   ]
  },
  {
   "cell_type": "markdown",
   "metadata": {},
   "source": [
    "# Implemenation using queue module\n",
    "Queue module also has a LIFO Queue, which is basically a Stack. Data is inserted into Queue using `put()` function and `get()` takes data out from the Queue.\n",
    "\n",
    "There are various functions available in this module:\n",
    "* maxsize – Number of items allowed in the queue.\n",
    "* empty() – Return True if the queue is empty, False otherwise.\n",
    "* full() – Return True if there are maxsize items in the queue. If the queue was initialized with maxsize=0 (the default), then full() never returns True.\n",
    "* get() – Remove and return an item from the queue. If queue is empty, wait until an item is available.\n",
    "* get_nowait() – Return an item if one is immediately available, else raise QueueEmpty.\n",
    "* put(item) – Put an item into the queue. If the queue is full, wait until a free slot is available before adding the item.\n",
    "* put_nowait(item) – Put an item into the queue without blocking.\n",
    "* qsize() – Return the number of items in the queue. If no free slot is immediately available, raise QueueFull.\n"
   ]
  },
  {
   "cell_type": "code",
   "execution_count": 9,
   "metadata": {},
   "outputs": [],
   "source": [
    "# Python program to  \n",
    "# demonstrate stack implementation \n",
    "# using queue module   \n",
    "from queue import LifoQueue \n",
    "  \n",
    "# Initializing a stack \n",
    "stack = LifoQueue(maxsize = 3) "
   ]
  },
  {
   "cell_type": "code",
   "execution_count": 10,
   "metadata": {},
   "outputs": [],
   "source": [
    "# put() function to push \n",
    "# element in the stack \n",
    "stack.put('a') \n",
    "stack.put('b') \n",
    "stack.put('c') "
   ]
  },
  {
   "cell_type": "code",
   "execution_count": 11,
   "metadata": {},
   "outputs": [
    {
     "name": "stdout",
     "output_type": "stream",
     "text": [
      "Full:  True\n",
      "Size:  3\n"
     ]
    }
   ],
   "source": [
    "print(\"Full: \", stack.full())  \n",
    "print(\"Size: \", stack.qsize())  "
   ]
  },
  {
   "cell_type": "code",
   "execution_count": 12,
   "metadata": {},
   "outputs": [
    {
     "data": {
      "text/plain": [
       "'c'"
      ]
     },
     "execution_count": 12,
     "metadata": {},
     "output_type": "execute_result"
    }
   ],
   "source": [
    "# get() fucntion to pop \n",
    "# element from stack in  \n",
    "# LIFO order \n",
    "stack.get()"
   ]
  }
 ],
 "metadata": {
  "kernelspec": {
   "display_name": "Python 3",
   "language": "python",
   "name": "python3"
  },
  "language_info": {
   "codemirror_mode": {
    "name": "ipython",
    "version": 3
   },
   "file_extension": ".py",
   "mimetype": "text/x-python",
   "name": "python",
   "nbconvert_exporter": "python",
   "pygments_lexer": "ipython3",
   "version": "3.8.2"
  }
 },
 "nbformat": 4,
 "nbformat_minor": 4
}
